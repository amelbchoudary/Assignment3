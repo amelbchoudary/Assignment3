{
 "cells": [
  {
   "cell_type": "markdown",
   "metadata": {},
   "source": [
    "# DNA"
   ]
  },
  {
   "cell_type": "markdown",
   "metadata": {},
   "source": [
    "Problem\n",
    "A string is simply an ordered collection of symbols selected from some alphabet and formed into a word; the length of a string is the number of symbols that it contains.\n",
    "\n",
    "An example of a length 21 DNA string (whose alphabet contains the symbols 'A', 'C', 'G', and 'T') is \"ATGCTTCAGAAAGGTCTTACG.\"\n",
    "\n",
    "Given: A DNA string s of length at most 1000 nt.\n",
    "\n",
    "Return: Four integers (separated by spaces) counting the respective number of times that the symbols 'A', 'C', 'G', and 'T' occur in s.\n",
    "\n",
    "Sample Dataset\n",
    "AGCTTTTCATTCTGACTGCAACGGGCAATATGTCTCTGTGTGGATTAAAAAAAGAGTGTCTGATAGCAGC\n",
    "Sample Output\n",
    "20 12 17 21"
   ]
  },
  {
   "cell_type": "code",
   "execution_count": 62,
   "metadata": {},
   "outputs": [
    {
     "name": "stdout",
     "output_type": "stream",
     "text": [
      "201 199 206 210\n"
     ]
    }
   ],
   "source": [
    "dna_seq = open('rosalind_dna.txt' , 'r').read()\n",
    "if '>' in dna_seq :\n",
    "    data_array = dna_seq.split('>')\n",
    "    for i in data_array:\n",
    "        if i == '':\n",
    "             data_array.remove(i)\n",
    "    for i in data_array: data_array[data_array.index(i)] = i.split('\\n', 2)\n",
    "\n",
    "from collections import Counter\n",
    "a=dna_seq.count(\"A\")\n",
    "b=dna_seq.count(\"C\")\n",
    "c=dna_seq.count(\"G\")\n",
    "d=dna_seq.count(\"T\")\n",
    "print(a, b , c ,d)"
   ]
  },
  {
   "cell_type": "markdown",
   "metadata": {},
   "source": [
    "# RNA "
   ]
  },
  {
   "cell_type": "markdown",
   "metadata": {},
   "source": [
    "Problem\n",
    "An RNA string is a string formed from the alphabet containing 'A', 'C', 'G', and 'U'.\n",
    "\n",
    "Given a DNA string t corresponding to a coding strand, its transcribed RNA string u is formed by replacing all occurrences of 'T' in t with 'U' in u.\n",
    "\n",
    "Given: A DNA string t having length at most 1000 nt.\n",
    "\n",
    "Return: The transcribed RNA string of t.\n",
    "\n",
    "Sample Dataset\n",
    "GATGGAACTTGACTACGTAAATT\n",
    "Sample Output\n",
    "GAUGGAACUUGACUACGUAAAUU"
   ]
  },
  {
   "cell_type": "code",
   "execution_count": 64,
   "metadata": {},
   "outputs": [
    {
     "data": {
      "text/plain": [
       "'GAUGGAACUUGACUACGUAAAUU'"
      ]
     },
     "execution_count": 64,
     "metadata": {},
     "output_type": "execute_result"
    }
   ],
   "source": [
    "seq = \"GATGGAACTTGACTACGTAAATT\"\n",
    "seq.replace(\"T\",\"U\")"
   ]
  },
  {
   "cell_type": "markdown",
   "metadata": {},
   "source": [
    "# REVC"
   ]
  },
  {
   "cell_type": "markdown",
   "metadata": {},
   "source": [
    "Problem\n",
    "In DNA strings, symbols 'A' and 'T' are complements of each other, as are 'C' and 'G'.\n",
    "\n",
    "The reverse complement of a DNA string s is the string sc formed by reversing the symbols of s, then taking the complement of each symbol (e.g., the reverse complement of \"GTCA\" is \"TGAC\").\n",
    "\n",
    "Given: A DNA string s of length at most 1000 bp.\n",
    "\n",
    "Return: The reverse complement sc of s.\n",
    "\n",
    "Sample Dataset\n",
    "AAAACCCGGT\n",
    "Sample Output\n",
    "ACCGGGTTTT"
   ]
  },
  {
   "cell_type": "code",
   "execution_count": 84,
   "metadata": {},
   "outputs": [
    {
     "data": {
      "text/plain": [
       "'ACCGGGTTTT'"
      ]
     },
     "execution_count": 84,
     "metadata": {},
     "output_type": "execute_result"
    }
   ],
   "source": [
    "seq = \"AAAACCCGGT\"\n",
    "char_to_replace = {\"A\" : \"T\" , \"C\" : \"G\" , \"T\" :\"A\", \"G\" : \"C\"}\n",
    "seq=seq.translate(str.maketrans(char_to_replace))\n",
    "seq[::-1]"
   ]
  },
  {
   "cell_type": "markdown",
   "metadata": {},
   "source": [
    "# IPRB"
   ]
  },
  {
   "cell_type": "markdown",
   "metadata": {},
   "source": [
    "Problem\n",
    "Given: Positive integers n≤40 and k≤5.\n",
    "\n",
    "Return: The total number of rabbit pairs that will be present after n months, if we begin with 1 pair and in each generation, every pair of reproduction-age rabbits produces a litter of k rabbit pairs (instead of only 1 pair).\n",
    "\n",
    "Sample Dataset\n",
    "5 3\n",
    "Sample Output\n",
    "19"
   ]
  },
  {
   "cell_type": "code",
   "execution_count": 65,
   "metadata": {},
   "outputs": [
    {
     "data": {
      "text/plain": [
       "19"
      ]
     },
     "execution_count": 65,
     "metadata": {},
     "output_type": "execute_result"
    }
   ],
   "source": [
    "def fibo_rabbit(months, progeny):\n",
    "    child, parent = 1, 0\n",
    "    for i in range(months-1):\n",
    "        child,parent= parent*progeny , child + parent\n",
    "    return child + parent\n",
    "\n",
    "# TEST\n",
    "fibo_rabbit(5,3)\n"
   ]
  },
  {
   "cell_type": "markdown",
   "metadata": {},
   "source": [
    "# GC"
   ]
  },
  {
   "cell_type": "markdown",
   "metadata": {},
   "source": [
    "Problem\n",
    "The GC-content of a DNA string is given by the percentage of symbols in the string that are 'C' or 'G'. For example, the GC-content of \"AGCTATAG\" is 37.5%. Note that the reverse complement of any DNA string has the same GC-content.\n",
    "\n",
    "DNA strings must be labeled when they are consolidated into a database. A commonly used method of string labeling is called FASTA format. In this format, the string is introduced by a line that begins with '>', followed by some labeling information. Subsequent lines contain the string itself; the first line to begin with '>' indicates the label of the next string.\n",
    "\n",
    "In Rosalind's implementation, a string in FASTA format will be labeled by the ID \"Rosalind_xxxx\", where \"xxxx\" denotes a four-digit code between 0000 and 9999.\n",
    "\n",
    "Given: At most 10 DNA strings in FASTA format (of length at most 1 kbp each).\n",
    "\n",
    "Return: The ID of the string having the highest GC-content, followed by the GC-content of that string. Rosalind allows for a default error of 0.001 in all decimal answers unless otherwise stated; please see the note on absolute error below.\n",
    "\n",
    "Sample Dataset\n",
    ">Rosalind_6404\n",
    "CCTGCGGAAGATCGGCACTAGAATAGCCAGAACCGTTTCTCTGAGGCTTCCGGCCTTCCC\n",
    "TCCCACTAATAATTCTGAGG\n",
    ">Rosalind_5959\n",
    "CCATCGGTAGCGCATCCTTAGTCCAATTAAGTCCCTATCCAGGCGCTCCGCCGAAGGTCT\n",
    "ATATCCATTTGTCAGCAGACACGC\n",
    ">Rosalind_0808\n",
    "CCACCCTCGTGGTATGGCTAGGCATTCAGGAACCGGAGAACGCTTCAGACCAGCCCGGAC\n",
    "TGGGAACCTGCGGGCAGTAGGTGGAAT\n",
    "Sample Output\n",
    "Rosalind_0808\n",
    "60.919540\n"
   ]
  },
  {
   "cell_type": "code",
   "execution_count": 87,
   "metadata": {},
   "outputs": [
    {
     "name": "stdout",
     "output_type": "stream",
     "text": [
      "Rosalind_5991\n",
      "52.17391304347826\n"
     ]
    }
   ],
   "source": [
    "from Bio import SeqIO\n",
    "from Bio.SeqUtils import GC\n",
    "gc_content = 0\n",
    "seq_name = \"\"\n",
    "unzip_fasta = open(\"rosalind_gc.txt\" , \"r\")\n",
    "for record in SeqIO.parse(unzip_fasta ,\"fasta\"):\n",
    "    if gc_content < GC(record.seq):\n",
    "        gc_content=GC(record.seq)\n",
    "        seq_name = record.id\n",
    "print(seq_name)\n",
    "print(gc_content)"
   ]
  },
  {
   "cell_type": "markdown",
   "metadata": {},
   "source": [
    " # SUBS\n",
    "Finding a Motif in DNA"
   ]
  },
  {
   "cell_type": "markdown",
   "metadata": {},
   "source": [
    "Problem\n",
    "\n",
    "\n",
    "Given: Two DNA strings s and t (each of length at most 1 kbp).\n",
    "\n",
    "Return: All locations of t as a substring of s.\n",
    "Sample Dataset\n",
    "\n",
    "ATAT\n",
    "Sample Output\n",
    "2 4 10\n",
    "\n"
   ]
  },
  {
   "cell_type": "code",
   "execution_count": 88,
   "metadata": {},
   "outputs": [
    {
     "name": "stdout",
     "output_type": "stream",
     "text": [
      "2\n",
      "4\n",
      "10\n"
     ]
    }
   ],
   "source": [
    "s = \"GATATATGCATATACTT\"\n",
    "t = \"ATAT\"\n",
    "for position in range(len(s)):\n",
    "    if s[position:].startswith(t):\n",
    "        print(position+1)"
   ]
  },
  {
   "cell_type": "code",
   "execution_count": 67,
   "metadata": {},
   "outputs": [
    {
     "name": "stdout",
     "output_type": "stream",
     "text": [
      "15\n",
      "91\n",
      "98\n",
      "132\n",
      "163\n",
      "223\n",
      "239\n",
      "267\n",
      "321\n",
      "347\n",
      "354\n",
      "361\n",
      "376\n",
      "411\n",
      "562\n",
      "607\n",
      "643\n",
      "720\n",
      "727\n",
      "763\n",
      "791\n",
      "808\n",
      "842\n",
      "849\n"
     ]
    }
   ],
   "source": [
    "import re\n",
    "\n",
    "(s,t) = open(\"rosalind_subs.txt\").read().split()\n",
    "t  = re.compile(\"(?=(\"+t+\"))\")\n",
    "\n",
    "for match in t.finditer(s):\n",
    "        print (match.start()+1)"
   ]
  },
  {
   "cell_type": "markdown",
   "metadata": {},
   "source": [
    "# LIA"
   ]
  },
  {
   "cell_type": "markdown",
   "metadata": {},
   "source": [
    "Given: Two positive integers k (k≤7) and N (N≤2k). In this problem, we begin with Tom, who in the 0th generation has genotype Aa Bb. Tom has two children in the 1st generation, each of whom has two children, and so on. Each organism always mates with an organism having genotype Aa Bb.\n",
    "\n",
    "Return: The probability that at least N Aa Bb organisms will belong to the k-th generation of Tom's family tree (don't count the Aa Bb mates at each level). Assume that Mendel's second law holds for the factors.\n",
    "\n",
    "Sample Dataset\n",
    "2 1\n",
    "Sample Output\n",
    "0.684"
   ]
  },
  {
   "cell_type": "code",
   "execution_count": 9,
   "metadata": {},
   "outputs": [
    {
     "name": "stdout",
     "output_type": "stream",
     "text": [
      "0.68359375\n"
     ]
    }
   ],
   "source": [
    "import math\n",
    "k = 2\n",
    "N = 1\n",
    "P = 2**k\n",
    "\n",
    "probability1 = 0                                                                \n",
    "for i in range(N, P + 1):                                                      \n",
    "    probability2 = (math.factorial(P) /                                                \n",
    "            (math.factorial(i) * math.factorial(P - i))) * (0.25**i) * (0.75**(\n",
    "                P - i))                                                        \n",
    "    probability1 += probability2                                                        \n",
    "print(probability1)    "
   ]
  },
  {
   "cell_type": "markdown",
   "metadata": {},
   "source": [
    "# IEV\n",
    "Calculating Expected Offspring"
   ]
  },
  {
   "cell_type": "markdown",
   "metadata": {},
   "source": [
    "Problem\n",
    "\n",
    "Given: Six nonnegative integers, each of which does not exceed 20,000. The integers correspond to the number of couples in a population possessing each genotype pairing for a given factor. In order, the six given integers represent the number of couples having the following genotypes:\n",
    "\n",
    "AA-AA\n",
    "AA-Aa\n",
    "AA-aa\n",
    "Aa-Aa\n",
    "Aa-aa\n",
    "aa-aa\n",
    "Return: The expected number of offspring displaying the dominant phenotype in the next generation, under the assumption that every couple has exactly two offspring.\n",
    "\n",
    "Sample Dataset\n",
    "1 0 0 1 0 1\n",
    "Sample Output\n",
    "3.5"
   ]
  },
  {
   "cell_type": "code",
   "execution_count": 16,
   "metadata": {},
   "outputs": [
    {
     "name": "stdout",
     "output_type": "stream",
     "text": [
      "3.5\n"
     ]
    }
   ],
   "source": [
    "couples = [1,0,0,1,0,1]\n",
    "expected = []\n",
    "for i in range(len(couples)):\n",
    "    if i < 3:\n",
    "        expected.append(couples[i]* 2)\n",
    "    elif i == 3:\n",
    "        expected.append(couples[i]*3 / 4*2 )\n",
    "    elif i == 4:\n",
    "        expected.append(couples[i] / 2 * 2)\n",
    "    else :\n",
    "        expected.append(0)\n",
    "print(sum(expected))\n"
   ]
  },
  {
   "cell_type": "markdown",
   "metadata": {},
   "source": [
    "# CONS\n",
    " Consensus and Profile"
   ]
  },
  {
   "cell_type": "markdown",
   "metadata": {},
   "source": [
    "Given: A collection of at most 10 DNA strings of equal length (at most 1 kbp) in FASTA format.\n",
    "\n",
    "Return: A consensus string and profile matrix for the collection. (If several possible consensus strings exist, then you may return any one of them.)\n"
   ]
  },
  {
   "cell_type": "code",
   "execution_count": 23,
   "metadata": {},
   "outputs": [
    {
     "name": "stdout",
     "output_type": "stream",
     "text": [
      "ACTTTAAGTGGAAAGTAGGAATGGGCGATCTACGAATCCCTCAACAGTTTGATAACCAGC\n",
      "A: 4 2 2 2 0 3 6 1 2 3 1 4 4 4 3 1 4 1 1 4 3 0 0 2 2 1 1 3 3 3 2 3 2 2 5 3 2 2 2 2 3 0 4 4 1 4 3 3 3 2 1 5 2 4 5 2 3 5 3 2\n",
      "C: 3 3 2 0 3 3 2 1 1 0 4 3 1 3 0 2 2 2 2 2 2 3 4 2 2 5 4 2 3 4 2 2 3 2 2 1 2 5 4 5 1 4 1 0 4 3 1 1 2 1 2 1 2 1 3 3 4 1 2 5\n",
      "G: 1 2 2 3 1 3 2 6 3 6 5 3 4 1 4 3 1 4 6 1 2 2 5 5 3 2 5 3 0 2 2 2 3 3 2 3 2 0 1 2 2 4 1 4 3 2 4 2 1 1 4 1 2 3 2 3 1 2 4 2\n",
      "T: 2 3 4 5 6 1 0 2 4 1 0 0 1 2 3 4 3 3 1 3 3 5 1 1 3 2 0 2 4 1 4 3 2 3 1 3 4 3 3 1 4 2 4 2 2 1 2 4 4 6 3 3 4 2 0 2 2 2 1 1\n"
     ]
    }
   ],
   "source": [
    "file = open('rosalind_cons.txt' , 'r').read()\n",
    "if '>' in file :\n",
    "    data_array = file.split('>')\n",
    "    for i in data_array:\n",
    "        if i == '':\n",
    "             data_array.remove(i)\n",
    "    for i in data_array: data_array[data_array.index(i)] = i.split('\\n', 2)\n",
    "\n",
    "# Profile matrrix\n",
    "sequences = []\n",
    "for i in data_array:\n",
    "    data_array[data_array.index(i)] = i[1]\n",
    "    sequences.append(i[1])\n",
    "\n",
    "n = len(sequences[0])\n",
    "\n",
    "profile_matrix = {\n",
    "    'A': [0]*n,\n",
    "    'C': [0]*n,\n",
    "    'G': [0]*n,\n",
    "    'T': [0]*n,\n",
    "    }\n",
    "\n",
    "for dna in sequences:\n",
    "    for position, nucleotide in enumerate(dna):\n",
    "        profile_matrix[nucleotide][position] += 1\n",
    "\n",
    "#consensus sequence formation\n",
    "\n",
    "result = []\n",
    "for position in range(n):\n",
    "    max_count = 0\n",
    "    max_nucleotide = None\n",
    "    for nucleotide in profile_matrix:\n",
    "        if profile_matrix[nucleotide][position] > max_count:\n",
    "            max_count = profile_matrix[nucleotide][position]\n",
    "            max_nucleotide = nucleotide\n",
    "    result.append(max_nucleotide)\n",
    "\n",
    "print(''.join(result))\n",
    "print('A:', ' '.join(map(str, profile_matrix['A'])))\n",
    "print('C:', ' '.join(map(str, profile_matrix['C'])))\n",
    "print('G:', ' '.join(map(str, profile_matrix['G'])))\n",
    "print('T:', ' '.join(map(str, profile_matrix['T'])))\n",
    "\n",
    "\n"
   ]
  },
  {
   "cell_type": "markdown",
   "metadata": {},
   "source": [
    "# PROB \n",
    "Introduction to random strings "
   ]
  },
  {
   "cell_type": "markdown",
   "metadata": {},
   "source": [
    "Problem\n",
    "Given: A DNA string s of length at most 100 bp and an array A containing at most 20 numbers between 0 and 1.\n",
    "\n",
    "Return: An array B having the same length as A in which B[k] represents the common logarithm of the probability that a random string constructed with the GC-content found in A[k] will match s exactly."
   ]
  },
  {
   "cell_type": "code",
   "execution_count": 44,
   "metadata": {},
   "outputs": [
    {
     "name": "stdout",
     "output_type": "stream",
     "text": [
      " -74.739 -70.019 -64.364 -61.452 -57.975 -57.396 -56.245 -55.975 -55.941 -56.238 -57.322 -57.762 -59.977 -61.866 -66.945 -68.529 -79.939 -84.703\n"
     ]
    }
   ],
   "source": [
    "from math import log\n",
    "with open(\"rosalind_prob.txt\",\"r\") as file:\n",
    "    content = file.readlines()\n",
    "string = content[0]\n",
    "probability_list = list(map(float,(content[1].split())))\n",
    "\n",
    "res = \"\"\n",
    "for i in probability_list:\n",
    "    temp = []\n",
    "    for j in string:\n",
    "        if j == \"A\" or j == \"T\":\n",
    "            temp.append((1-i)/2)\n",
    "        if j == \"G\" or j == \"C\":\n",
    "            temp.append(i/2)\n",
    "    new_tmp= []\n",
    "    new_tmp =[log(y,10) for y in temp]\n",
    "\n",
    "    c = round(sum(new_tmp),3)\n",
    "    res = res + \" \" + str(c)\n",
    "print(res)\n"
   ]
  }
 ],
 "metadata": {
  "kernelspec": {
   "display_name": "Python 3.9.12 ('base')",
   "language": "python",
   "name": "python3"
  },
  "language_info": {
   "codemirror_mode": {
    "name": "ipython",
    "version": 3
   },
   "file_extension": ".py",
   "mimetype": "text/x-python",
   "name": "python",
   "nbconvert_exporter": "python",
   "pygments_lexer": "ipython3",
   "version": "3.9.12"
  },
  "orig_nbformat": 4,
  "vscode": {
   "interpreter": {
    "hash": "84b7f5baf7709d8b0040a7b044644fcec20d91e73b471742cc0a411029aab504"
   }
  }
 },
 "nbformat": 4,
 "nbformat_minor": 2
}
